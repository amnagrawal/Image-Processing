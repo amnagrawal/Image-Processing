{
 "cells": [
  {
   "cell_type": "code",
   "execution_count": 1,
   "metadata": {},
   "outputs": [],
   "source": [
    "from collections import OrderedDict"
   ]
  },
  {
   "cell_type": "code",
   "execution_count": 2,
   "metadata": {},
   "outputs": [],
   "source": [
    "# define a dictionary that maps the indexes of the facial\n",
    "# landmarks to specific face regions\n",
    "FACIAL_LANDMARKS_IDXS = OrderedDict([\n",
    "    (\"mouth\", (48, 68)),\n",
    "    (\"right_eyebrow\", (17, 22)),\n",
    "    (\"left_eyebrow\", (22, 27)),\n",
    "    (\"right_eye\", (36, 42)),\n",
    "    (\"left_eye\", (42, 48)),\n",
    "    (\"nose\", (27, 35)),\n",
    "    (\"jaw\", (0, 17))\n",
    "])"
   ]
  },
  {
   "cell_type": "code",
   "execution_count": 3,
   "metadata": {},
   "outputs": [],
   "source": [
    "def visualize_facial_landmarks(image, shape, colors=None, alpha=0.75):\n",
    "    # create two copies of the image -- one for the\n",
    "    # overlay and one for the final image output\n",
    "    overlay = image.copy()\n",
    "    output = image.copy()\n",
    "    \n",
    "    # initialize colors list with a unique color for each facial landmark region\n",
    "    if colors is None:\n",
    "        colors = [(19, 199, 109), (79, 76, 240), (230, 159, 23),\n",
    "                 (168, 100, 168), (158, 163, 32), (163, 38, 32), (180, 42, 220)]\n",
    "        \n",
    "    for (i, name) in enumerate(FACIAL_LANDMARKS_IDXS.keys()):\n",
    "        # grab the (x, y)-coordinates associated with the face landmark\n",
    "        (j, k) = FACIAL_LANDMARKS_IDXS[name]\n",
    "        pts = shape[j:k]\n",
    "        \n",
    "        # check if the jawline is to be drawn\n",
    "        if name == \"jaw\":\n",
    "            # since the jawline is a non-enclosed facial region,\n",
    "            # just draw lines b/w the (x, y)- coordinates\n",
    "            for l in range(1, len(pts)):\n",
    "                ptA = tuple(pts[l-1])\n",
    "                ptB = tuple(pts[l])\n",
    "                cv2.line(overlay, ptA, ptB, colors[i], 2)\n",
    "                \n",
    "        # otherwise, compute the convex hull of the facial\n",
    "        # landmark coordinates points and display it\n",
    "        else:\n",
    "            hull = cv2.convexHull(pts)\n",
    "            cv2.drawContours(overlay, [hull], -1, colors[i], -1)\n",
    "            \n",
    "        # apply the transparent overlay\n",
    "        cv2.addWeighted(overlay, alpha, output, 1-alpha, 0, output)\n",
    "        \n",
    "        return output"
   ]
  },
  {
   "cell_type": "code",
   "execution_count": 4,
   "metadata": {},
   "outputs": [],
   "source": [
    "from imutils import face_utils\n",
    "from imutils.video import VideoStream\n",
    "import datetime\n",
    "import time\n",
    "import numpy as np\n",
    "import argparse\n",
    "import imutils\n",
    "import dlib\n",
    "import cv2"
   ]
  },
  {
   "cell_type": "code",
   "execution_count": 5,
   "metadata": {},
   "outputs": [],
   "source": [
    "# construct the argument parser and parse the arguments\n",
    "# ap = argparse.ArgumentParser()\n",
    "# ap.add_argument(\"-p\", \"--shape-predictor\", required=True,\n",
    "#     help=\"path to facial landmark predictor\")\n",
    "# ap.add_argument(\"-i\", \"--image\", required=True,\n",
    "#     help=\"path to input image\")\n",
    "# args = vars(ap.parse_args())"
   ]
  },
  {
   "cell_type": "code",
   "execution_count": 6,
   "metadata": {},
   "outputs": [],
   "source": [
    "# initialize dlib's face detector and then create\n",
    "# the facial landmark predictor\n",
    "detector = dlib.get_frontal_face_detector()\n",
    "#predictor = dlib.shape_predictor(args[\"shape_predictor\"])\n",
    "predictor = dlib.shape_predictor(\"shape_predictor_68_face_landmarks.dat\")"
   ]
  },
  {
   "cell_type": "code",
   "execution_count": 13,
   "metadata": {},
   "outputs": [
    {
     "name": "stdout",
     "output_type": "stream",
     "text": [
      "[(247, 26) (290, 70)]\n"
     ]
    }
   ],
   "source": [
    "# load the input image, resize it, and convert it to grayscale\n",
    "# image = cv2.imread(args[\"image\"])\n",
    "image = cv2.imread(\"images/messi.jpg\")\n",
    "image = imutils.resize(image, width=500)\n",
    "gray = cv2.cvtColor(image, cv2.COLOR_BGR2GRAY)\n",
    "\n",
    "# detect faces in the grayscale image\n",
    "rects = detector(gray, 1)"
   ]
  },
  {
   "cell_type": "code",
   "execution_count": 8,
   "metadata": {},
   "outputs": [],
   "source": [
    "# loop over the face detections\n",
    "for (i, rect) in enumerate(rects):\n",
    "    # determine the facial landmarks for the face region, then\n",
    "    # convert the landmark (x, y)-coordinates to a numpy array\n",
    "    shape = predictor(gray, rect)\n",
    "    shape = face_utils.shape_to_np(shape)\n",
    "    \n",
    "    #loop over the face parts individually\n",
    "#     for(name, (i, j)) in face_utils.FACIAL_LANDMARKS_IDXS.items():\n",
    "#         # clone the original image to draw on it, then\n",
    "#         # display the name of the face part on the image\n",
    "#         clone = image.copy()\n",
    "#         cv2.putText(clone, name, (10, 30), cv2.FONT_HERSHEY_SIMPLEX,\n",
    "#             0.7, (0, 0, 255), 2)\n",
    "        \n",
    "#         #loop over the subset of facial landmarks, drawing the specific face part\n",
    "#         for (x, y) in shape[i:j]:\n",
    "#             cv2.circle(clone, (x, y), 1, (0, 0, 255), -1)\n",
    "        \n",
    "#         # extract the ROI of the face region as a separate image\n",
    "#         (x, y, w, h) = cv2.boundingRect(np.array([shape[i:j]]))\n",
    "#         roi = image[y:y+h, x:x+w]\n",
    "#         roi = imutils.resize(roi, width=250, inter=cv2.INTER_CUBIC)\n",
    "        \n",
    "#         # show the paritcular face part\n",
    "#         cv2.imshow(\"ROI\", roi)\n",
    "#         cv2.imshow(\"Image\", clone)\n",
    "#         cv2.waitKey(0)\n",
    "        \n",
    "    # visualize all facial landmarks with a transparent overlay\n",
    "    output = face_utils.visualize_facial_landmarks(image, shape)\n",
    "    cv2.startWindowThread()\n",
    "    cv2.imshow(\"Image\", output)\n",
    "    cv2.waitKey(0)\n",
    "    cv2.destroyAllWindows()"
   ]
  },
  {
   "cell_type": "code",
   "execution_count": 9,
   "metadata": {},
   "outputs": [
    {
     "name": "stdout",
     "output_type": "stream",
     "text": [
      "[[270  39]\n",
      " [270  41]\n",
      " [270  43]\n",
      " [270  46]\n",
      " [267  48]\n",
      " [268  48]\n",
      " [270  49]\n",
      " [271  49]]\n"
     ]
    }
   ],
   "source": [
    "print(shape[27:35])\n",
    "centre = np.mean(shape[27:35], axis=0)\n",
    "# print(np.max(shape[27:35], axis=0) - np.min(shape[27:35], axis=0))\n",
    "nose_width = np.min(np.max(shape[27:35], axis=0) - np.min(shape[27:35], axis=0))\n",
    "new_nose = cv2.imread(\"images/nose.png\")\n",
    "new_nose = imutils.resize(new_nose, width = nose_width)\n",
    "cv2.startWindowThread()\n",
    "cv2.\n",
    "cv2.imshow(\"Nose\", new_nose)\n",
    "cv2.waitKey(0)\n",
    "cv2.destroyAllWindows()\n",
    "clone = image.copy()"
   ]
  },
  {
   "cell_type": "code",
   "execution_count": 12,
   "metadata": {},
   "outputs": [
    {
     "data": {
      "text/plain": [
       "45.375"
      ]
     },
     "execution_count": 12,
     "metadata": {},
     "output_type": "execute_result"
    }
   ],
   "source": [
    "centre[1]"
   ]
  },
  {
   "cell_type": "code",
   "execution_count": 8,
   "metadata": {},
   "outputs": [],
   "source": [
    "vs = VideoStream().start()\n",
    "time.sleep(2.0)\n",
    "\n",
    "# loop over the frames in the videostream\n",
    "while True:\n",
    "    frame = vs.read()\n",
    "    frame = imutils.resize(frame, width=400)\n",
    "    gray = cv2.cvtColor(frame, cv2.COLOR_BGR2GRAY)\n",
    "    \n",
    "    rects = detector(gray, 0)\n",
    "    \n",
    "    for rect in rects:\n",
    "        shape = predictor(gray, rect)\n",
    "        shape = face_utils.shape_to_np(shape)\n",
    "        \n",
    "        for (x, y) in shape:\n",
    "            cv2.circle(frame, (x, y), 1, (0,0, 255), -1)\n",
    "    \n",
    "    cv2.imshow(\"Frame\", frame)\n",
    "    key = cv2.waitKey(1) & 0xFF\n",
    "    \n",
    "    if key == ord(\"q\"):\n",
    "        break\n",
    "    \n",
    "cv2.destroyAllWindows()\n",
    "vs.stop()"
   ]
  },
  {
   "cell_type": "code",
   "execution_count": null,
   "metadata": {},
   "outputs": [],
   "source": []
  },
  {
   "cell_type": "code",
   "execution_count": null,
   "metadata": {},
   "outputs": [],
   "source": []
  }
 ],
 "metadata": {
  "kernelspec": {
   "display_name": "Python [default]",
   "language": "python",
   "name": "python3"
  },
  "language_info": {
   "codemirror_mode": {
    "name": "ipython",
    "version": 3
   },
   "file_extension": ".py",
   "mimetype": "text/x-python",
   "name": "python",
   "nbconvert_exporter": "python",
   "pygments_lexer": "ipython3",
   "version": "3.6.5"
  }
 },
 "nbformat": 4,
 "nbformat_minor": 2
}
