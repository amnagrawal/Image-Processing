{
 "cells": [
  {
   "cell_type": "code",
   "execution_count": 1,
   "metadata": {},
   "outputs": [],
   "source": [
    "#https://www.pyimagesearch.com/2017/01/23/seam-carving-with-opencv-python-and-scikit-image/\n",
    "from skimage import transform\n",
    "from skimage import filters\n",
    "import cv2"
   ]
  },
  {
   "cell_type": "code",
   "execution_count": 5,
   "metadata": {},
   "outputs": [],
   "source": [
    "def disp_image(image, title=\"image\"):\n",
    "    cv2.startWindowThread()\n",
    "    cv2.imshow(title, image)\n",
    "    cv2.waitKey(0)\n",
    "    cv2.destroyAllWindows()"
   ]
  },
  {
   "cell_type": "code",
   "execution_count": 23,
   "metadata": {},
   "outputs": [],
   "source": [
    "image = cv2.imread(\"images/pic1.jpg\")\n",
    "gray = cv2.cvtColor(image, cv2.COLOR_BGR2GRAY)\n",
    "\n",
    "# compute the Sobel gradient magnitude representation\n",
    "# of the image -- this will serve as the \"energy map\"\n",
    "# input to the seam carving algorithm\n",
    "\n",
    "mag = filters.sobel(gray.astype(\"float\"))\n",
    "disp_image(image, \"original\")\n",
    "disp_image(mag, \"sobel_filter\")"
   ]
  },
  {
   "cell_type": "code",
   "execution_count": 25,
   "metadata": {},
   "outputs": [
    {
     "name": "stdout",
     "output_type": "stream",
     "text": [
      "[INFO] removing 20 seams; new size: w=940, h=540\n",
      "[INFO] removing 70 seams; new size: w=890, h=540\n",
      "[INFO] removing 120 seams; new size: w=840, h=540\n",
      "[INFO] removing 170 seams; new size: w=790, h=540\n",
      "[INFO] removing 220 seams; new size: w=740, h=540\n",
      "[INFO] removing 270 seams; new size: w=690, h=540\n",
      "[INFO] removing 320 seams; new size: w=640, h=540\n",
      "[INFO] removing 370 seams; new size: w=590, h=540\n"
     ]
    }
   ],
   "source": [
    "for numSeams in range(20, 400, 50):\n",
    "    # perform seam carving, removing the desired number\n",
    "    # of frames from the image\n",
    "    carved = transform.seam_carve(image, mag, \"vertical\", numSeams)\n",
    "    print(f'[INFO] removing {numSeams} seams; new size: w={carved.shape[1]}, h={carved.shape[0]}')\n",
    "    \n",
    "    disp_image(carved, \"carved\")"
   ]
  },
  {
   "cell_type": "code",
   "execution_count": null,
   "metadata": {},
   "outputs": [],
   "source": []
  }
 ],
 "metadata": {
  "kernelspec": {
   "display_name": "Python [conda env:anaconda3]",
   "language": "python",
   "name": "conda-env-anaconda3-py"
  },
  "language_info": {
   "codemirror_mode": {
    "name": "ipython",
    "version": 3
   },
   "file_extension": ".py",
   "mimetype": "text/x-python",
   "name": "python",
   "nbconvert_exporter": "python",
   "pygments_lexer": "ipython3",
   "version": "3.6.4"
  }
 },
 "nbformat": 4,
 "nbformat_minor": 2
}
